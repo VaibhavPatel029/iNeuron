{
 "cells": [
  {
   "cell_type": "markdown",
   "metadata": {},
   "source": [
    "### 1.Create the below pattern using nested for loop in Python."
   ]
  },
  {
   "cell_type": "code",
   "execution_count": 21,
   "metadata": {},
   "outputs": [
    {
     "name": "stdout",
     "output_type": "stream",
     "text": [
      "Output:\n",
      "\n",
      "* \n",
      "* * \n",
      "* * * \n",
      "* * * * \n",
      "* * * * * \n",
      "* * * * \n",
      "* * * \n",
      "* * \n",
      "* \n"
     ]
    }
   ],
   "source": [
    "# for loop to create first part of pattern\n",
    "n=5\n",
    "\n",
    "print(\"Output:\")\n",
    "\n",
    "for i in range(n):\n",
    "    for j in range(i):\n",
    "        print('* ',end=\"\")\n",
    "    print('')\n",
    "# another for loop to create rest part of pattern\n",
    "for i in range(n,0,-1):\n",
    "    for j in range(i):\n",
    "        print('* ', end=\"\")\n",
    "    print('')"
   ]
  },
  {
   "cell_type": "markdown",
   "metadata": {},
   "source": [
    "### 2.Write a Python program to reverse a word after accepting the input from the user.\n",
    "Input word: ineuron\n",
    "Output: norueni\n"
   ]
  },
  {
   "cell_type": "code",
   "execution_count": 23,
   "metadata": {},
   "outputs": [
    {
     "name": "stdout",
     "output_type": "stream",
     "text": [
      "Input string : ineuron\n",
      "Output string : norueni\n"
     ]
    }
   ],
   "source": [
    "#using in-built function \"reversed()\"\n",
    "\n",
    "def reverse_String(inputString):\n",
    "    output_String=\"\".join(reversed(inputString))\n",
    "    return output_String\n",
    "\n",
    "# Input\n",
    "\n",
    "input_String = \"ineuron\"\n",
    "\n",
    "#Function Execution\n",
    "output_String =reverse_String(input_String)\n",
    "\n",
    "#Output\n",
    "print(\"Input string :\",input_String)\n",
    "print(\"Output string :\",output_String)"
   ]
  },
  {
   "cell_type": "code",
   "execution_count": null,
   "metadata": {},
   "outputs": [],
   "source": []
  }
 ],
 "metadata": {
  "kernelspec": {
   "display_name": "Python 3",
   "language": "python",
   "name": "python3"
  },
  "language_info": {
   "codemirror_mode": {
    "name": "ipython",
    "version": 3
   },
   "file_extension": ".py",
   "mimetype": "text/x-python",
   "name": "python",
   "nbconvert_exporter": "python",
   "pygments_lexer": "ipython3",
   "version": "3.7.6"
  }
 },
 "nbformat": 4,
 "nbformat_minor": 4
}
